{
 "cells": [
  {
   "cell_type": "code",
   "execution_count": 2,
   "id": "31cf400d",
   "metadata": {},
   "outputs": [
    {
     "name": "stdout",
     "output_type": "stream",
     "text": [
      "Enter a one line: nishant is a good trader and nishant is trading in forex\n",
      "nishant is a good trader and nishant is trading in forex\n",
      "2\n"
     ]
    }
   ],
   "source": [
    "a = input(\"Enter a one line: \")\n",
    "print(a)\n",
    "print(a.count(\"nishant\"))"
   ]
  },
  {
   "cell_type": "code",
   "execution_count": null,
   "id": "a46d48ff",
   "metadata": {},
   "outputs": [],
   "source": []
  }
 ],
 "metadata": {
  "kernelspec": {
   "display_name": "Python 3 (ipykernel)",
   "language": "python",
   "name": "python3"
  },
  "language_info": {
   "codemirror_mode": {
    "name": "ipython",
    "version": 3
   },
   "file_extension": ".py",
   "mimetype": "text/x-python",
   "name": "python",
   "nbconvert_exporter": "python",
   "pygments_lexer": "ipython3",
   "version": "3.9.12"
  }
 },
 "nbformat": 4,
 "nbformat_minor": 5
}
