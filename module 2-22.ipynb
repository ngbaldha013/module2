{
 "cells": [
  {
   "cell_type": "markdown",
   "id": "593cd941",
   "metadata": {},
   "source": [
    "# Write a Python program to get a string made of the first 2 and the last 2\n",
    "# chars from a given a string. Ifthe string length islessthan 2,return instead\n",
    "# of the empty string.\n"
   ]
  },
  {
   "cell_type": "code",
   "execution_count": 2,
   "id": "45adc1c3",
   "metadata": {},
   "outputs": [
    {
     "name": "stdout",
     "output_type": "stream",
     "text": [
      "Enter a string: nishant\n",
      "nint\n"
     ]
    }
   ],
   "source": [
    "a = input(\"Enter a string: \")\n",
    "if len(a) > 1:\n",
    "    b = a[:2]\n",
    "    c = a[-2:]\n",
    "    d = b + c\n",
    "    print(d)\n",
    "else :\n",
    "    print(a)\n",
    "     "
   ]
  },
  {
   "cell_type": "code",
   "execution_count": null,
   "id": "e6c33c6d",
   "metadata": {},
   "outputs": [],
   "source": []
  }
 ],
 "metadata": {
  "kernelspec": {
   "display_name": "Python 3 (ipykernel)",
   "language": "python",
   "name": "python3"
  },
  "language_info": {
   "codemirror_mode": {
    "name": "ipython",
    "version": 3
   },
   "file_extension": ".py",
   "mimetype": "text/x-python",
   "name": "python",
   "nbconvert_exporter": "python",
   "pygments_lexer": "ipython3",
   "version": "3.9.12"
  }
 },
 "nbformat": 4,
 "nbformat_minor": 5
}
