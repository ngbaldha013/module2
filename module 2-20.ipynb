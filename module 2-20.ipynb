{
 "cells": [
  {
   "cell_type": "markdown",
   "id": "2dd4cecf",
   "metadata": {},
   "source": [
    "# Write a Python function that takes a list of words and returns the length\n",
    "# of the longest one"
   ]
  },
  {
   "cell_type": "code",
   "execution_count": 1,
   "id": "11bb7e34",
   "metadata": {},
   "outputs": [
    {
     "name": "stdout",
     "output_type": "stream",
     "text": [
      "Asian paints  =  12\n"
     ]
    }
   ],
   "source": [
    "def long_word(a):\n",
    "    x = []\n",
    "    for i in a:\n",
    "        p = len(i)\n",
    "        x.append(p)\n",
    "    y = max(x)\n",
    "    z = x.index(y)\n",
    "    print(a[z] , \" = \" , y)\n",
    "    \n",
    "var = [\"kotak\", \"SBIN\", \"Reliance\", \"Asian paints\"]\n",
    "long_word(var)"
   ]
  },
  {
   "cell_type": "code",
   "execution_count": null,
   "id": "e29653bb",
   "metadata": {},
   "outputs": [],
   "source": []
  }
 ],
 "metadata": {
  "kernelspec": {
   "display_name": "Python 3 (ipykernel)",
   "language": "python",
   "name": "python3"
  },
  "language_info": {
   "codemirror_mode": {
    "name": "ipython",
    "version": 3
   },
   "file_extension": ".py",
   "mimetype": "text/x-python",
   "name": "python",
   "nbconvert_exporter": "python",
   "pygments_lexer": "ipython3",
   "version": "3.9.12"
  }
 },
 "nbformat": 4,
 "nbformat_minor": 5
}
