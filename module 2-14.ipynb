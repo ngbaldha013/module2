{
 "cells": [
  {
   "cell_type": "markdown",
   "id": "1dbc953a",
   "metadata": {},
   "source": [
    "# Write a Python program to count the number of characters\n",
    "# (character frequency) in a string\n",
    "\n"
   ]
  },
  {
   "cell_type": "code",
   "execution_count": 3,
   "id": "9516c0cb",
   "metadata": {},
   "outputs": [
    {
     "name": "stdout",
     "output_type": "stream",
     "text": [
      "Enter a one line: Nishant is a forex trader\n",
      "Nishant is a forex trader\n",
      "2\n"
     ]
    }
   ],
   "source": [
    "a = input(\"Enter a one line: \")\n",
    "print(a)\n",
    "print(a.count(\"i\"))"
   ]
  },
  {
   "cell_type": "code",
   "execution_count": null,
   "id": "d54dd19d",
   "metadata": {},
   "outputs": [],
   "source": []
  }
 ],
 "metadata": {
  "kernelspec": {
   "display_name": "Python 3 (ipykernel)",
   "language": "python",
   "name": "python3"
  },
  "language_info": {
   "codemirror_mode": {
    "name": "ipython",
    "version": 3
   },
   "file_extension": ".py",
   "mimetype": "text/x-python",
   "name": "python",
   "nbconvert_exporter": "python",
   "pygments_lexer": "ipython3",
   "version": "3.9.12"
  }
 },
 "nbformat": 4,
 "nbformat_minor": 5
}
