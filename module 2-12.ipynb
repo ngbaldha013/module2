{
 "cells": [
  {
   "cell_type": "code",
   "execution_count": null,
   "id": "1539cb9b",
   "metadata": {},
   "outputs": [],
   "source": [
    "a = int(input(\"Please enter number: \"))\n",
    "b=0\n",
    "for i in range(1,a+1):\n",
    "    b = b+i\n",
    "print(b)\n",
    "    "
   ]
  },
  {
   "cell_type": "code",
   "execution_count": null,
   "id": "2efc1e49",
   "metadata": {},
   "outputs": [],
   "source": [
    "a = int(input(\"Please enter number : \"))\n",
    "b=0\n",
    "for i in range(1,a+1):\n",
    "    b = b+i\n",
    "print(b)"
   ]
  },
  {
   "cell_type": "code",
   "execution_count": null,
   "id": "08f6fd76",
   "metadata": {},
   "outputs": [],
   "source": []
  },
  {
   "cell_type": "code",
   "execution_count": null,
   "id": "c054e521",
   "metadata": {},
   "outputs": [],
   "source": []
  }
 ],
 "metadata": {
  "kernelspec": {
   "display_name": "Python 3 (ipykernel)",
   "language": "python",
   "name": "python3"
  },
  "language_info": {
   "codemirror_mode": {
    "name": "ipython",
    "version": 3
   },
   "file_extension": ".py",
   "mimetype": "text/x-python",
   "name": "python",
   "nbconvert_exporter": "python",
   "pygments_lexer": "ipython3",
   "version": "3.9.12"
  }
 },
 "nbformat": 4,
 "nbformat_minor": 5
}
