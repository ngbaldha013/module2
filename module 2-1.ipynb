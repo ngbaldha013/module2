{
 "cells": [
  {
   "cell_type": "code",
   "execution_count": 1,
   "id": "b705a2b3",
   "metadata": {},
   "outputs": [
    {
     "name": "stdout",
     "output_type": "stream",
     "text": [
      "Enter your number: 20\n",
      "Number os positive\n"
     ]
    }
   ],
   "source": [
    "a = float(input(\"Enter your number: \"))\n",
    "if a>0:\n",
    "    print(\"Number os positive\")\n",
    "elif a == 0:\n",
    "    print(\"Zero\")\n",
    "else :\n",
    "    print(\"Number is negative\")"
   ]
  },
  {
   "cell_type": "code",
   "execution_count": null,
   "id": "5dd71574",
   "metadata": {},
   "outputs": [],
   "source": []
  }
 ],
 "metadata": {
  "kernelspec": {
   "display_name": "Python 3 (ipykernel)",
   "language": "python",
   "name": "python3"
  },
  "language_info": {
   "codemirror_mode": {
    "name": "ipython",
    "version": 3
   },
   "file_extension": ".py",
   "mimetype": "text/x-python",
   "name": "python",
   "nbconvert_exporter": "python",
   "pygments_lexer": "ipython3",
   "version": "3.9.12"
  }
 },
 "nbformat": 4,
 "nbformat_minor": 5
}
