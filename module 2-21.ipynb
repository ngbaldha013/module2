{
 "cells": [
  {
   "cell_type": "markdown",
   "id": "95c9277b",
   "metadata": {},
   "source": [
    "# Write a Python function to reverses a string if its length is a multiple of 4."
   ]
  },
  {
   "cell_type": "code",
   "execution_count": 1,
   "id": "d9c9430c",
   "metadata": {},
   "outputs": [
    {
     "name": "stdout",
     "output_type": "stream",
     "text": [
      "Please enter string : Nishant Baldha\n",
      "Nishant Baldha\n"
     ]
    }
   ],
   "source": [
    "def rev(a):\n",
    "    if len(a) % 4 == 0:\n",
    "        return a[::-1]\n",
    "    else :\n",
    "        return a\n",
    "x = input(\"Please enter string : \")\n",
    "c = rev(x)\n",
    "print(c)"
   ]
  },
  {
   "cell_type": "code",
   "execution_count": null,
   "id": "bade2865",
   "metadata": {},
   "outputs": [],
   "source": []
  }
 ],
 "metadata": {
  "kernelspec": {
   "display_name": "Python 3 (ipykernel)",
   "language": "python",
   "name": "python3"
  },
  "language_info": {
   "codemirror_mode": {
    "name": "ipython",
    "version": 3
   },
   "file_extension": ".py",
   "mimetype": "text/x-python",
   "name": "python",
   "nbconvert_exporter": "python",
   "pygments_lexer": "ipython3",
   "version": "3.9.12"
  }
 },
 "nbformat": 4,
 "nbformat_minor": 5
}
