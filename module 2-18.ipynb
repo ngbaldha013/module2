{
 "cells": [
  {
   "cell_type": "code",
   "execution_count": null,
   "id": "3a8caaf6",
   "metadata": {},
   "outputs": [],
   "source": []
  },
  {
   "cell_type": "markdown",
   "id": "c9563b9d",
   "metadata": {},
   "source": [
    "# Write a Python program to count the occurrences of each word in a given\n",
    "# sentence"
   ]
  },
  {
   "cell_type": "code",
   "execution_count": 1,
   "id": "b07d9425",
   "metadata": {},
   "outputs": [
    {
     "name": "stdout",
     "output_type": "stream",
     "text": [
      "Niader\n",
      "Trshant\n"
     ]
    }
   ],
   "source": [
    "a = \"Nishant\"\n",
    "b = \"Trader\"\n",
    "c = a[:2] + b[2:]\n",
    "d = b[:2] + a[2:]\n",
    "print(c)\n",
    "print(d)\n"
   ]
  },
  {
   "cell_type": "code",
   "execution_count": null,
   "id": "aeea001c",
   "metadata": {},
   "outputs": [],
   "source": []
  }
 ],
 "metadata": {
  "kernelspec": {
   "display_name": "Python 3 (ipykernel)",
   "language": "python",
   "name": "python3"
  },
  "language_info": {
   "codemirror_mode": {
    "name": "ipython",
    "version": 3
   },
   "file_extension": ".py",
   "mimetype": "text/x-python",
   "name": "python",
   "nbconvert_exporter": "python",
   "pygments_lexer": "ipython3",
   "version": "3.9.12"
  }
 },
 "nbformat": 4,
 "nbformat_minor": 5
}
