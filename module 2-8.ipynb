{
 "cells": [
  {
   "cell_type": "code",
   "execution_count": 1,
   "id": "f5425240",
   "metadata": {},
   "outputs": [
    {
     "name": "stdout",
     "output_type": "stream",
     "text": [
      "Enter a words: vovei\n",
      "Invalide please enter : vovel\n"
     ]
    }
   ],
   "source": [
    "a = str(input(\"Enter a words: \"))\n",
    "if a == \"Vovel\":\n",
    "    print(\"Correct word\")\n",
    "else :\n",
    "    print(\"Invalide please enter : vovel\")"
   ]
  },
  {
   "cell_type": "code",
   "execution_count": null,
   "id": "007c912e",
   "metadata": {},
   "outputs": [],
   "source": []
  }
 ],
 "metadata": {
  "kernelspec": {
   "display_name": "Python 3 (ipykernel)",
   "language": "python",
   "name": "python3"
  },
  "language_info": {
   "codemirror_mode": {
    "name": "ipython",
    "version": 3
   },
   "file_extension": ".py",
   "mimetype": "text/x-python",
   "name": "python",
   "nbconvert_exporter": "python",
   "pygments_lexer": "ipython3",
   "version": "3.9.12"
  }
 },
 "nbformat": 4,
 "nbformat_minor": 5
}
